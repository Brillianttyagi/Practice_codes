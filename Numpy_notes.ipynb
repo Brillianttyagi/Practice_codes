{
  "nbformat": 4,
  "nbformat_minor": 0,
  "metadata": {
    "colab": {
      "name": "Numpy notes",
      "provenance": [],
      "authorship_tag": "ABX9TyOs9VOy+cV6ZzRWXT23miuZ",
      "include_colab_link": true
    },
    "kernelspec": {
      "name": "python3",
      "display_name": "Python 3"
    }
  },
  "cells": [
    {
      "cell_type": "markdown",
      "metadata": {
        "id": "view-in-github",
        "colab_type": "text"
      },
      "source": [
        "<a href=\"https://colab.research.google.com/github/Brillianttyagi/Practice_codes/blob/master/Numpy_notes.ipynb\" target=\"_parent\"><img src=\"https://colab.research.google.com/assets/colab-badge.svg\" alt=\"Open In Colab\"/></a>"
      ]
    },
    {
      "cell_type": "code",
      "metadata": {
        "id": "uGstaSXoBjyp",
        "colab_type": "code",
        "colab": {}
      },
      "source": [
        "import numpy as np"
      ],
      "execution_count": null,
      "outputs": []
    },
    {
      "cell_type": "code",
      "metadata": {
        "id": "M20I6roiBq0a",
        "colab_type": "code",
        "colab": {}
      },
      "source": [
        "a = np.arange(36).reshape(6,6)"
      ],
      "execution_count": null,
      "outputs": []
    },
    {
      "cell_type": "code",
      "metadata": {
        "id": "JVBu6u7jCAyl",
        "colab_type": "code",
        "colab": {
          "base_uri": "https://localhost:8080/",
          "height": 119
        },
        "outputId": "9a88c4d9-4fad-4afe-fdf7-59026d498fd0"
      },
      "source": [
        "a"
      ],
      "execution_count": null,
      "outputs": [
        {
          "output_type": "execute_result",
          "data": {
            "text/plain": [
              "array([[ 0,  1,  2,  3,  4,  5],\n",
              "       [ 6,  7,  8,  9, 10, 11],\n",
              "       [12, 13, 14, 15, 16, 17],\n",
              "       [18, 19, 20, 21, 22, 23],\n",
              "       [24, 25, 26, 27, 28, 29],\n",
              "       [30, 31, 32, 33, 34, 35]])"
            ]
          },
          "metadata": {
            "tags": []
          },
          "execution_count": 7
        }
      ]
    },
    {
      "cell_type": "code",
      "metadata": {
        "id": "FW34NO8OCOTM",
        "colab_type": "code",
        "colab": {
          "base_uri": "https://localhost:8080/",
          "height": 34
        },
        "outputId": "e884a2f9-933f-4bd3-f8f0-603f244412a2"
      },
      "source": [
        "a.shape #the dimensions of the array."
      ],
      "execution_count": null,
      "outputs": [
        {
          "output_type": "execute_result",
          "data": {
            "text/plain": [
              "(6, 6)"
            ]
          },
          "metadata": {
            "tags": []
          },
          "execution_count": 12
        }
      ]
    },
    {
      "cell_type": "code",
      "metadata": {
        "id": "dBCDhXc2CQ2o",
        "colab_type": "code",
        "colab": {
          "base_uri": "https://localhost:8080/",
          "height": 34
        },
        "outputId": "5058c792-0121-4d4e-cc32-e8009236cb02"
      },
      "source": [
        "a.ndim   #he dimensions of the array."
      ],
      "execution_count": null,
      "outputs": [
        {
          "output_type": "execute_result",
          "data": {
            "text/plain": [
              "2"
            ]
          },
          "metadata": {
            "tags": []
          },
          "execution_count": 10
        }
      ]
    },
    {
      "cell_type": "code",
      "metadata": {
        "id": "IlNROU8yCbs-",
        "colab_type": "code",
        "colab": {
          "base_uri": "https://localhost:8080/",
          "height": 34
        },
        "outputId": "57b100f2-49c0-4740-ac8a-ed1bd9b16ea3"
      },
      "source": [
        "a.size   #the total number of elements of the array. "
      ],
      "execution_count": null,
      "outputs": [
        {
          "output_type": "execute_result",
          "data": {
            "text/plain": [
              "36"
            ]
          },
          "metadata": {
            "tags": []
          },
          "execution_count": 11
        }
      ]
    },
    {
      "cell_type": "code",
      "metadata": {
        "id": "1tTC_XN5CnFe",
        "colab_type": "code",
        "colab": {
          "base_uri": "https://localhost:8080/",
          "height": 34
        },
        "outputId": "ade62111-cd8d-49ac-ade4-14e9c1cfe896"
      },
      "source": [
        "a.dtype    #an object describing the type of the elements in the array. "
      ],
      "execution_count": null,
      "outputs": [
        {
          "output_type": "execute_result",
          "data": {
            "text/plain": [
              "dtype('int64')"
            ]
          },
          "metadata": {
            "tags": []
          },
          "execution_count": 15
        }
      ]
    },
    {
      "cell_type": "code",
      "metadata": {
        "id": "RgEsqW_TCxB_",
        "colab_type": "code",
        "colab": {
          "base_uri": "https://localhost:8080/",
          "height": 34
        },
        "outputId": "667b41f1-4650-4be0-fa91-7ad73995b810"
      },
      "source": [
        "a.itemsize    #the size in bytes of each element of the array. "
      ],
      "execution_count": null,
      "outputs": [
        {
          "output_type": "execute_result",
          "data": {
            "text/plain": [
              "8"
            ]
          },
          "metadata": {
            "tags": []
          },
          "execution_count": 16
        }
      ]
    },
    {
      "cell_type": "code",
      "metadata": {
        "id": "UW4hqwc-C4VP",
        "colab_type": "code",
        "colab": {
          "base_uri": "https://localhost:8080/",
          "height": 34
        },
        "outputId": "091011bf-99dd-42bd-db4e-4573bbda736f"
      },
      "source": [
        "a.data    #the buffer containing the actual elements of the array."
      ],
      "execution_count": null,
      "outputs": [
        {
          "output_type": "stream",
          "text": [
            "<memory at 0x7f87221b9048>\n"
          ],
          "name": "stdout"
        }
      ]
    },
    {
      "cell_type": "code",
      "metadata": {
        "id": "dYnlq00hC5Te",
        "colab_type": "code",
        "colab": {}
      },
      "source": [
        "# array creation\n",
        "arr = np.array([1,2,4,5,5],dtype = np.int16)"
      ],
      "execution_count": null,
      "outputs": []
    },
    {
      "cell_type": "code",
      "metadata": {
        "id": "eZsGMG5HDZff",
        "colab_type": "code",
        "colab": {
          "base_uri": "https://localhost:8080/",
          "height": 34
        },
        "outputId": "12e00e3a-0ce8-4349-e18a-0326cb5df204"
      },
      "source": [
        "arr.dtype"
      ],
      "execution_count": null,
      "outputs": [
        {
          "output_type": "execute_result",
          "data": {
            "text/plain": [
              "dtype('int16')"
            ]
          },
          "metadata": {
            "tags": []
          },
          "execution_count": 34
        }
      ]
    },
    {
      "cell_type": "code",
      "metadata": {
        "id": "LxEP9EOhDav4",
        "colab_type": "code",
        "colab": {}
      },
      "source": [
        "arr = np.array([[1,2,3,4,5],\n",
        "                [2,3,4,58,9],\n",
        "                [54,3,21,3,3]])"
      ],
      "execution_count": null,
      "outputs": []
    },
    {
      "cell_type": "code",
      "metadata": {
        "id": "M6VfwAbXEE4C",
        "colab_type": "code",
        "colab": {
          "base_uri": "https://localhost:8080/",
          "height": 68
        },
        "outputId": "48a99b7f-439d-4ee7-dea5-e3bd1c514c6e"
      },
      "source": [
        "arr"
      ],
      "execution_count": null,
      "outputs": [
        {
          "output_type": "execute_result",
          "data": {
            "text/plain": [
              "array([[ 1,  2,  3,  4,  5],\n",
              "       [ 2,  3,  4, 58,  9],\n",
              "       [54,  3, 21,  3,  3]])"
            ]
          },
          "metadata": {
            "tags": []
          },
          "execution_count": 37
        }
      ]
    },
    {
      "cell_type": "code",
      "metadata": {
        "id": "moiO_-pxEF6Z",
        "colab_type": "code",
        "colab": {
          "base_uri": "https://localhost:8080/",
          "height": 102
        },
        "outputId": "68395c35-29db-46bb-f521-644b2409498b"
      },
      "source": [
        "arr.reshape(5,3)"
      ],
      "execution_count": null,
      "outputs": [
        {
          "output_type": "execute_result",
          "data": {
            "text/plain": [
              "array([[ 1,  2,  3],\n",
              "       [ 4,  5,  2],\n",
              "       [ 3,  4, 58],\n",
              "       [ 9, 54,  3],\n",
              "       [21,  3,  3]])"
            ]
          },
          "metadata": {
            "tags": []
          },
          "execution_count": 41
        }
      ]
    },
    {
      "cell_type": "code",
      "metadata": {
        "id": "kqXG2iiPEqW7",
        "colab_type": "code",
        "colab": {
          "base_uri": "https://localhost:8080/",
          "height": 68
        },
        "outputId": "ff0f35d5-7a48-4d2c-8bf9-aa1439afa1c4"
      },
      "source": [
        "np.zeros((3,3),dtype = np.int16)"
      ],
      "execution_count": null,
      "outputs": [
        {
          "output_type": "execute_result",
          "data": {
            "text/plain": [
              "array([[0, 0, 0],\n",
              "       [0, 0, 0],\n",
              "       [0, 0, 0]], dtype=int16)"
            ]
          },
          "metadata": {
            "tags": []
          },
          "execution_count": 45
        }
      ]
    },
    {
      "cell_type": "code",
      "metadata": {
        "id": "SGNWAbLiE5XV",
        "colab_type": "code",
        "colab": {
          "base_uri": "https://localhost:8080/",
          "height": 51
        },
        "outputId": "ff419a58-605e-465e-cd81-0232e33f48ac"
      },
      "source": [
        "np.ones((2,3),np.int16)"
      ],
      "execution_count": null,
      "outputs": [
        {
          "output_type": "execute_result",
          "data": {
            "text/plain": [
              "array([[1, 1, 1],\n",
              "       [1, 1, 1]], dtype=int16)"
            ]
          },
          "metadata": {
            "tags": []
          },
          "execution_count": 46
        }
      ]
    },
    {
      "cell_type": "code",
      "metadata": {
        "id": "5y98IbNtFH6I",
        "colab_type": "code",
        "colab": {
          "base_uri": "https://localhost:8080/",
          "height": 34
        },
        "outputId": "932bb6f4-f55a-4ae2-9d64-1e9c7c5e3688"
      },
      "source": [
        "np.empty((1,3))"
      ],
      "execution_count": null,
      "outputs": [
        {
          "output_type": "execute_result",
          "data": {
            "text/plain": [
              "array([[0.75, 0.75, 0.  ]])"
            ]
          },
          "metadata": {
            "tags": []
          },
          "execution_count": 47
        }
      ]
    },
    {
      "cell_type": "code",
      "metadata": {
        "id": "PuFbRvmZFMBU",
        "colab_type": "code",
        "colab": {}
      },
      "source": [
        "b = np.arange(1,100,2)"
      ],
      "execution_count": null,
      "outputs": []
    },
    {
      "cell_type": "code",
      "metadata": {
        "id": "FvfnYiP9FTMa",
        "colab_type": "code",
        "colab": {
          "base_uri": "https://localhost:8080/",
          "height": 34
        },
        "outputId": "0d9c3601-6dd9-45d7-94b2-bba6e2863dfc"
      },
      "source": [
        "b.size"
      ],
      "execution_count": null,
      "outputs": [
        {
          "output_type": "execute_result",
          "data": {
            "text/plain": [
              "50"
            ]
          },
          "metadata": {
            "tags": []
          },
          "execution_count": 52
        }
      ]
    },
    {
      "cell_type": "code",
      "metadata": {
        "id": "AFFlffkwFeaO",
        "colab_type": "code",
        "colab": {
          "base_uri": "https://localhost:8080/",
          "height": 187
        },
        "outputId": "abbb0d27-e09f-4353-f8bd-839b38502894"
      },
      "source": [
        "b.reshape(10,5)"
      ],
      "execution_count": null,
      "outputs": [
        {
          "output_type": "execute_result",
          "data": {
            "text/plain": [
              "array([[ 1,  3,  5,  7,  9],\n",
              "       [11, 13, 15, 17, 19],\n",
              "       [21, 23, 25, 27, 29],\n",
              "       [31, 33, 35, 37, 39],\n",
              "       [41, 43, 45, 47, 49],\n",
              "       [51, 53, 55, 57, 59],\n",
              "       [61, 63, 65, 67, 69],\n",
              "       [71, 73, 75, 77, 79],\n",
              "       [81, 83, 85, 87, 89],\n",
              "       [91, 93, 95, 97, 99]])"
            ]
          },
          "metadata": {
            "tags": []
          },
          "execution_count": 53
        }
      ]
    },
    {
      "cell_type": "code",
      "metadata": {
        "id": "S_u5po0YFhf0",
        "colab_type": "code",
        "colab": {
          "base_uri": "https://localhost:8080/",
          "height": 204
        },
        "outputId": "b99f1ae3-0e02-466b-ab30-f3a1f5de1667"
      },
      "source": [
        "b.reshape(2,5,5)"
      ],
      "execution_count": null,
      "outputs": [
        {
          "output_type": "execute_result",
          "data": {
            "text/plain": [
              "array([[[ 1,  3,  5,  7,  9],\n",
              "        [11, 13, 15, 17, 19],\n",
              "        [21, 23, 25, 27, 29],\n",
              "        [31, 33, 35, 37, 39],\n",
              "        [41, 43, 45, 47, 49]],\n",
              "\n",
              "       [[51, 53, 55, 57, 59],\n",
              "        [61, 63, 65, 67, 69],\n",
              "        [71, 73, 75, 77, 79],\n",
              "        [81, 83, 85, 87, 89],\n",
              "        [91, 93, 95, 97, 99]]])"
            ]
          },
          "metadata": {
            "tags": []
          },
          "execution_count": 54
        }
      ]
    },
    {
      "cell_type": "code",
      "metadata": {
        "id": "CgXjQFYuFuKA",
        "colab_type": "code",
        "colab": {
          "base_uri": "https://localhost:8080/",
          "height": 119
        },
        "outputId": "4fbb6bf9-2c49-41ec-f162-107516e490a8"
      },
      "source": [
        "b<25"
      ],
      "execution_count": null,
      "outputs": [
        {
          "output_type": "execute_result",
          "data": {
            "text/plain": [
              "array([ True,  True,  True,  True,  True,  True,  True,  True,  True,\n",
              "        True,  True,  True, False, False, False, False, False, False,\n",
              "       False, False, False, False, False, False, False, False, False,\n",
              "       False, False, False, False, False, False, False, False, False,\n",
              "       False, False, False, False, False, False, False, False, False,\n",
              "       False, False, False, False, False])"
            ]
          },
          "metadata": {
            "tags": []
          },
          "execution_count": 56
        }
      ]
    },
    {
      "cell_type": "code",
      "metadata": {
        "id": "JvvrD41oF1Lj",
        "colab_type": "code",
        "colab": {}
      },
      "source": [
        "x = np.array( [[1,1],\n",
        "               [0,1]] )\n",
        "y = np.array( [[2,0],\n",
        "              [3,4]] )"
      ],
      "execution_count": null,
      "outputs": []
    },
    {
      "cell_type": "code",
      "metadata": {
        "id": "Col1reANF7gs",
        "colab_type": "code",
        "colab": {
          "base_uri": "https://localhost:8080/",
          "height": 51
        },
        "outputId": "366cbac0-092e-45dd-f761-45ed45570dc8"
      },
      "source": [
        "x-y #sub"
      ],
      "execution_count": null,
      "outputs": [
        {
          "output_type": "execute_result",
          "data": {
            "text/plain": [
              "array([[-1,  1],\n",
              "       [-3, -3]])"
            ]
          },
          "metadata": {
            "tags": []
          },
          "execution_count": 70
        }
      ]
    },
    {
      "cell_type": "code",
      "metadata": {
        "id": "9KB0OZkDGM3e",
        "colab_type": "code",
        "colab": {
          "base_uri": "https://localhost:8080/",
          "height": 51
        },
        "outputId": "551cec03-d6fc-4613-baf9-c51a535b70d5"
      },
      "source": [
        "#matrix prod\n",
        "y @ x #meth1\n",
        "x.dot(y)  #meth2\n"
      ],
      "execution_count": null,
      "outputs": [
        {
          "output_type": "execute_result",
          "data": {
            "text/plain": [
              "array([[5, 4],\n",
              "       [3, 4]])"
            ]
          },
          "metadata": {
            "tags": []
          },
          "execution_count": 73
        }
      ]
    },
    {
      "cell_type": "code",
      "metadata": {
        "id": "Agt3VXjZGg47",
        "colab_type": "code",
        "colab": {}
      },
      "source": [
        "x +=y"
      ],
      "execution_count": null,
      "outputs": []
    },
    {
      "cell_type": "code",
      "metadata": {
        "id": "KlIxLDnbGwRS",
        "colab_type": "code",
        "colab": {
          "base_uri": "https://localhost:8080/",
          "height": 51
        },
        "outputId": "6d1ed86b-9cdd-4ea9-c434-6a4495034cfb"
      },
      "source": [
        "x"
      ],
      "execution_count": null,
      "outputs": [
        {
          "output_type": "execute_result",
          "data": {
            "text/plain": [
              "array([[3, 1],\n",
              "       [3, 5]])"
            ]
          },
          "metadata": {
            "tags": []
          },
          "execution_count": 75
        }
      ]
    },
    {
      "cell_type": "code",
      "metadata": {
        "id": "kAB7lS2YIa1J",
        "colab_type": "code",
        "colab": {}
      },
      "source": [
        "arr1 = np.linspace(2,3)"
      ],
      "execution_count": null,
      "outputs": []
    },
    {
      "cell_type": "code",
      "metadata": {
        "id": "LO1XCoGfIo3J",
        "colab_type": "code",
        "colab": {
          "base_uri": "https://localhost:8080/",
          "height": 35
        },
        "outputId": "05a87dd7-e25b-47f4-94f3-b0fbddb99fa2"
      },
      "source": [
        "arr1.dtype.name"
      ],
      "execution_count": null,
      "outputs": [
        {
          "output_type": "execute_result",
          "data": {
            "application/vnd.google.colaboratory.intrinsic": {
              "type": "string"
            },
            "text/plain": [
              "'float64'"
            ]
          },
          "metadata": {
            "tags": []
          },
          "execution_count": 82
        }
      ]
    },
    {
      "cell_type": "code",
      "metadata": {
        "id": "Hr3Td70WI0hk",
        "colab_type": "code",
        "colab": {
          "base_uri": "https://localhost:8080/",
          "height": 51
        },
        "outputId": "2752feba-3fc4-4bf9-97cc-feaaf0951e1f"
      },
      "source": [
        "np.exp(x)\n"
      ],
      "execution_count": null,
      "outputs": [
        {
          "output_type": "execute_result",
          "data": {
            "text/plain": [
              "array([[ 20.08553692,   2.71828183],\n",
              "       [ 20.08553692, 148.4131591 ]])"
            ]
          },
          "metadata": {
            "tags": []
          },
          "execution_count": 91
        }
      ]
    },
    {
      "cell_type": "code",
      "metadata": {
        "id": "bP5L_OzHJPxZ",
        "colab_type": "code",
        "colab": {
          "base_uri": "https://localhost:8080/",
          "height": 51
        },
        "outputId": "ff6f1c10-edfb-4935-9541-1bda22ecdd55"
      },
      "source": [
        "np.sqrt(x)"
      ],
      "execution_count": null,
      "outputs": [
        {
          "output_type": "execute_result",
          "data": {
            "text/plain": [
              "array([[1.73205081, 1.        ],\n",
              "       [1.73205081, 2.23606798]])"
            ]
          },
          "metadata": {
            "tags": []
          },
          "execution_count": 90
        }
      ]
    },
    {
      "cell_type": "code",
      "metadata": {
        "id": "66bovxl6J4Xq",
        "colab_type": "code",
        "colab": {}
      },
      "source": [
        "v = np.array([[ 0,  1,  2,  3],\n",
        "       [10, 11, 12, 13],\n",
        "       [20, 21, 22, 23],\n",
        "       [30, 31, 32, 33],\n",
        "       [40, 41, 42, 43]])"
      ],
      "execution_count": null,
      "outputs": []
    },
    {
      "cell_type": "code",
      "metadata": {
        "id": "Fo3LZXpZKRRf",
        "colab_type": "code",
        "colab": {
          "base_uri": "https://localhost:8080/",
          "height": 51
        },
        "outputId": "5378a1da-61da-40c4-a114-2821819be98b"
      },
      "source": [
        "print(v[2:4,:])"
      ],
      "execution_count": null,
      "outputs": [
        {
          "output_type": "stream",
          "text": [
            "[[20 21 22 23]\n",
            " [30 31 32 33]]\n"
          ],
          "name": "stdout"
        }
      ]
    },
    {
      "cell_type": "code",
      "metadata": {
        "id": "Ii1_lenjKXhX",
        "colab_type": "code",
        "colab": {
          "base_uri": "https://localhost:8080/",
          "height": 34
        },
        "outputId": "6ffc2b6d-05a4-4a95-f4c2-6f7894e640e2"
      },
      "source": [
        "#last row\n",
        "b[-1]"
      ],
      "execution_count": null,
      "outputs": [
        {
          "output_type": "execute_result",
          "data": {
            "text/plain": [
              "99"
            ]
          },
          "metadata": {
            "tags": []
          },
          "execution_count": 96
        }
      ]
    },
    {
      "cell_type": "code",
      "metadata": {
        "id": "_65iCpNSKitR",
        "colab_type": "code",
        "colab": {
          "base_uri": "https://localhost:8080/",
          "height": 357
        },
        "outputId": "60ca893d-18c0-4924-887d-446253abb527"
      },
      "source": [
        "for i in v.flat:\n",
        "  print(i)"
      ],
      "execution_count": null,
      "outputs": [
        {
          "output_type": "stream",
          "text": [
            "0\n",
            "1\n",
            "2\n",
            "3\n",
            "10\n",
            "11\n",
            "12\n",
            "13\n",
            "20\n",
            "21\n",
            "22\n",
            "23\n",
            "30\n",
            "31\n",
            "32\n",
            "33\n",
            "40\n",
            "41\n",
            "42\n",
            "43\n"
          ],
          "name": "stdout"
        }
      ]
    },
    {
      "cell_type": "code",
      "metadata": {
        "id": "6WccMR3VKpD5",
        "colab_type": "code",
        "colab": {
          "base_uri": "https://localhost:8080/",
          "height": 85
        },
        "outputId": "5b7c8f9b-da13-4408-896f-940374cad5c7"
      },
      "source": [
        "v.T"
      ],
      "execution_count": null,
      "outputs": [
        {
          "output_type": "execute_result",
          "data": {
            "text/plain": [
              "array([[ 0, 10, 20, 30, 40],\n",
              "       [ 1, 11, 21, 31, 41],\n",
              "       [ 2, 12, 22, 32, 42],\n",
              "       [ 3, 13, 23, 33, 43]])"
            ]
          },
          "metadata": {
            "tags": []
          },
          "execution_count": 98
        }
      ]
    },
    {
      "cell_type": "code",
      "metadata": {
        "id": "6vPDUqgdKw8U",
        "colab_type": "code",
        "colab": {
          "base_uri": "https://localhost:8080/",
          "height": 51
        },
        "outputId": "789f0bef-56f9-43db-cff9-f51ae5f7abd9"
      },
      "source": [
        "v.ravel()  #return the array flattened"
      ],
      "execution_count": null,
      "outputs": [
        {
          "output_type": "execute_result",
          "data": {
            "text/plain": [
              "array([ 0,  1,  2,  3, 10, 11, 12, 13, 20, 21, 22, 23, 30, 31, 32, 33, 40,\n",
              "       41, 42, 43])"
            ]
          },
          "metadata": {
            "tags": []
          },
          "execution_count": 100
        }
      ]
    },
    {
      "cell_type": "code",
      "metadata": {
        "id": "eNfsmNkRLOIJ",
        "colab_type": "code",
        "colab": {
          "base_uri": "https://localhost:8080/",
          "height": 286
        },
        "outputId": "a789269e-66f1-4a8f-d7b4-f37542f28c4d"
      },
      "source": [
        "import numpy as np\n",
        "import matplotlib.pyplot as plt\n",
        "def mandelbrot( h,w, maxit=20 ):\n",
        "    \"\"\"Returns an image of the Mandelbrot fractal of size (h,w).\"\"\"\n",
        "    y,x = np.ogrid[ -1.4:1.4:h*1j, -2:0.8:w*1j ]\n",
        "    c = x+y*1j\n",
        "    z = c\n",
        "    divtime = maxit + np.zeros(z.shape, dtype=int)\n",
        "\n",
        "    for i in range(maxit):\n",
        "        z = z**2 + c\n",
        "        diverge = z*np.conj(z) > 2**2            # who is diverging\n",
        "        div_now = diverge & (divtime==maxit)  # who is diverging now\n",
        "        divtime[div_now] = i                  # note when\n",
        "        z[diverge] = 2                        # avoid diverging too much\n",
        "\n",
        "    return divtime\n",
        "plt.imshow(mandelbrot(400,400))"
      ],
      "execution_count": null,
      "outputs": [
        {
          "output_type": "execute_result",
          "data": {
            "text/plain": [
              "<matplotlib.image.AxesImage at 0x7f872210e240>"
            ]
          },
          "metadata": {
            "tags": []
          },
          "execution_count": 101
        },
        {
          "output_type": "display_data",
          "data": {
            "image/png": "[encoded data removed]",
            "text/plain": [
              "<Figure size 432x288 with 1 Axes>"
            ]
          },
          "metadata": {
            "tags": [],
            "needs_background": "light"
          }
        }
      ]
    },
    {
      "cell_type": "code",
      "metadata": {
        "id": "FgZjHj-3MeWr",
        "colab_type": "code",
        "colab": {
          "base_uri": "https://localhost:8080/",
          "height": 282
        },
        "outputId": "8f65b575-42a7-48a3-c690-5dd7940eadb5"
      },
      "source": [
        "import numpy as np\n",
        "rg = np.random.default_rng(1)\n",
        "import matplotlib.pyplot as plt\n",
        "# Build a vector of 10000 normal deviates with variance 0.5^2 and mean 2\n",
        "mu, sigma = 2, 0.5\n",
        "v = rg.normal(mu,sigma,10000)\n",
        "# Plot a normalized histogram with 50 bins\n",
        "plt.hist(v, bins=50, density=1)       # matplotlib version (plot)\n",
        "# Compute the histogram with numpy and then plot it\n",
        "(n, bins) = np.histogram(v, bins=50, density=True)  # NumPy version (no plot)\n",
        "plt.plot(.5*(bins[1:]+bins[:-1]), n)\n"
      ],
      "execution_count": null,
      "outputs": [
        {
          "output_type": "execute_result",
          "data": {
            "text/plain": [
              "[<matplotlib.lines.Line2D at 0x7f87387880b8>]"
            ]
          },
          "metadata": {
            "tags": []
          },
          "execution_count": 102
        },
        {
          "output_type": "display_data",
          "data": {
            "image/png": "[encoded data removed]",
            "text/plain": [
              "<Figure size 432x288 with 1 Axes>"
            ]
          },
          "metadata": {
            "tags": [],
            "needs_background": "light"
          }
        }
      ]
    },
    {
      "cell_type": "code",
      "metadata": {
        "id": "pS6cZUj8Mm-4",
        "colab_type": "code",
        "colab": {}
      },
      "source": [
        ""
      ],
      "execution_count": null,
      "outputs": []
    }
  ]
}